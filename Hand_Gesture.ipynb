{
 "cells": [
  {
   "cell_type": "markdown",
   "id": "ffccf863",
   "metadata": {},
   "source": []
  },
  {
   "cell_type": "code",
   "execution_count": 1,
   "id": "332f73ad",
   "metadata": {},
   "outputs": [],
   "source": [
    "import cv2\n",
    "import mediapipe as mp\n",
    "from mediapipe.python.solutions.drawing_utils import draw_landmarks\n",
    "import math\n",
    "from ctypes import cast, POINTER\n",
    "from comtypes import CLSCTX_ALL\n",
    "from pycaw.pycaw import AudioUtilities, IAudioEndpointVolume\n",
    "import numpy"
   ]
  },
  {
   "cell_type": "code",
   "execution_count": null,
   "id": "ad0d7b1c",
   "metadata": {},
   "outputs": [],
   "source": [
    "devices = AudioUtilities.GetSpeakers()\n",
    "interface = devices.Activate(\n",
    "    IAudioEndpointVolume._iid_, CLSCTX_ALL, None)\n",
    "volume = cast(interface, POINTER(IAudioEndpointVolume))\n",
    "\n",
    "\n",
    "print(volume.GetVolumeRange())\n",
    "volume.SetMasterVolumeLevel(-20.0, None)\n",
    "\n",
    "\n",
    "cap = cv2.VideoCapture(0)\n",
    "mpHands = mp.solutions.hands\n",
    "hands = mpHands.Hands()\n",
    "mpDraw = mp.solutions.drawing_utils\n",
    "\n",
    "\n",
    "while True:\n",
    "    success,img = cap.read()\n",
    "    results = hands.process(cv2.cvtColor(img , cv2.COLOR_BGR2RGB))\n",
    "\n",
    "    if results.multi_hand_landmarks:\n",
    "        for handLms in results.multi_hand_landmarks:\n",
    "            lmList = []\n",
    "            for id ,lm in enumerate(handLms.landmark):\n",
    "                h ,w , c = img.shape\n",
    "                cx ,cy = int(lm.x*w) , int(lm.y*h)\n",
    "                lmList.append([id ,cx, cy])\n",
    "                mpDraw.draw_landmarks(img , handLms ,mpHands.HAND_CONNECTIONS)\n",
    "            \n",
    "            \n",
    "            if lmList:\n",
    "                x1 ,y1  = lmList[4][1] , lmList[4][2]\n",
    "                x2, y2  = lmList[8][1], lmList[8][2]\n",
    "                cv2.circle(img , (x1, y1) , 15 ,(255,0,0) , cv2.FILLED ) \n",
    "                cv2.circle(img , (x2, y2) , 15 ,(255,0,0) , cv2.FILLED )\n",
    "                cv2.line(img , (x1 , y1) , (x2 , y2) ,(255 , 0 , 255) , 3)\n",
    "            \n",
    "                z1 , z2 = (x1+x2)//2 , (y1+y2)//2\n",
    "                length = math.hypot(x2- x1 , y2- y1)\n",
    "                if length<50 :\n",
    "                    cv2.circle(img , (z1 ,z2) ,15 , (255 , 255 , 255) ,cv2.FILLED)\n",
    "            volRange  = volume.GetVolumeRange()\n",
    "            minVol = volRange[0]\n",
    "            maxVol = volRange[1]\n",
    "            vol = numpy.interp(length , [50 ,300] , [minVol ,maxVol])\n",
    "            volBar = numpy.interp(length , [50 ,300] , [400 ,150]) \n",
    "            volPer = numpy.interp(length , [50 ,300] , [0 ,100]) \n",
    "            volume.SetMasterVolumeLevel(vol, None)\n",
    "            cv2.rectangle(img , (50 ,150) , (85 , 400) ,(123,213,122) ,3)\n",
    "            cv2.rectangle(img , (50 , int(volBar)) , (85 ,400) ,(0, 231,23) ,cv2.FILLED)\n",
    "            cv2.putText(img , str(int(volPer)) , (40, 450) ,cv2.FONT_HERSHEY_PLAIN ,4 , (24,34,34) , 3)\n",
    "            \n",
    "    if cv2.waitKey(1) & 0xFF == ord('q'):\n",
    "        break\n",
    "        \n",
    "    cv2.imshow(\"Image\" ,img)\n",
    "    cv2.waitKey(1)\n",
    "   "
   ]
  },
  {
   "cell_type": "code",
   "execution_count": null,
   "id": "c6052724",
   "metadata": {},
   "outputs": [],
   "source": []
  }
 ],
 "metadata": {
  "kernelspec": {
   "display_name": "Python 3 (ipykernel)",
   "language": "python",
   "name": "python3"
  },
  "language_info": {
   "codemirror_mode": {
    "name": "ipython",
    "version": 3
   },
   "file_extension": ".py",
   "mimetype": "text/x-python",
   "name": "python",
   "nbconvert_exporter": "python",
   "pygments_lexer": "ipython3",
   "version": "3.11.7"
  }
 },
 "nbformat": 4,
 "nbformat_minor": 5
}
